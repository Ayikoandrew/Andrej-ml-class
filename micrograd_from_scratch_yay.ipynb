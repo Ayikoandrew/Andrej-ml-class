{
 "cells": [
  {
   "cell_type": "code",
   "execution_count": 1,
   "id": "e8d11f25",
   "metadata": {},
   "outputs": [],
   "source": [
    "import numpy as np\n",
    "import matplotlib.pyplot as plt\n",
    "import math\n",
    "%matplotlib inline"
   ]
  },
  {
   "cell_type": "code",
   "execution_count": 2,
   "id": "7e473493",
   "metadata": {},
   "outputs": [],
   "source": [
    "def f(x):\n",
    "    return 3*x**2 - x*4 + 5"
   ]
  },
  {
   "cell_type": "code",
   "execution_count": 3,
   "id": "41617f06",
   "metadata": {},
   "outputs": [],
   "source": [
    "xs = np.arange(-5, 5, 0.25)\n",
    "ys = f(xs)"
   ]
  },
  {
   "cell_type": "code",
   "execution_count": 4,
   "id": "1d82d3e0",
   "metadata": {},
   "outputs": [
    {
     "data": {
      "image/png": "[encoded data removed]",
      "text/plain": [
       "<Figure size 640x480 with 1 Axes>"
      ]
     },
     "metadata": {},
     "output_type": "display_data"
    }
   ],
   "source": [
    "# plt.figure(figsize=(10,6))\n",
    "plt.plot(xs, ys)\n",
    "plt.tight_layout()\n",
    "plt.show()"
   ]
  },
  {
   "cell_type": "markdown",
   "id": "febe04cc",
   "metadata": {},
   "source": [
    "# Definition of Differentiability\n",
    "\n",
    "A function of a real variable $f(x)$ is **differentiable** at a point $a$ of its domain, if its domain contains an open interval containing $a$, and the limit\n",
    "\n",
    "$$L = \\lim_{h \\to 0} \\frac{f(a+h) - f(a)}{h}$$\n",
    "\n",
    "exists and is finite.\n",
    "\n",
    "## Notes:\n",
    "\n",
    "- The limit $L$ is called the **derivative** of $f$ at $a$, denoted as $f'(a)$ or $\\frac{df}{dx}\\bigg|_{x=a}$\n",
    "- The expression $\\frac{f(a+h) - f(a)}{h}$ is called the **difference quotient**\n",
    "- For the function to be differentiable at $a$, both the left-hand and right-hand limits must exist and be equal\n"
   ]
  },
  {
   "cell_type": "code",
   "execution_count": 5,
   "id": "332f72e8",
   "metadata": {},
   "outputs": [
    {
     "data": {
      "text/plain": [
       "-21.999999688659955"
      ]
     },
     "execution_count": 5,
     "metadata": {},
     "output_type": "execute_result"
    }
   ],
   "source": [
    "h = 0.0000001\n",
    "x = -3\n",
    "(f(x + h) - f(x))/h"
   ]
  },
  {
   "cell_type": "code",
   "execution_count": 6,
   "id": "4410a99c",
   "metadata": {},
   "outputs": [
    {
     "name": "stdout",
     "output_type": "stream",
     "text": [
      "d1 4.0\n",
      "d2 4.0001\n",
      "slope 0.9999999999976694\n"
     ]
    }
   ],
   "source": [
    "h = 0.0001\n",
    "\n",
    "# inputs\n",
    "a = 2.0\n",
    "b = -3.0\n",
    "c = 10.0\n",
    "\n",
    "d1 = a * b + c\n",
    "c += h\n",
    "d2 = a * b + c\n",
    "print(\"d1\", d1)\n",
    "print(\"d2\", d2)\n",
    "print(\"slope\", (d2-d1)/h)"
   ]
  },
  {
   "cell_type": "code",
   "execution_count": null,
   "id": "2213313f",
   "metadata": {},
   "outputs": [
    {
     "data": {
      "text/plain": [
       "Value(data=4)"
      ]
     },
     "execution_count": 14,
     "metadata": {},
     "output_type": "execute_result"
    }
   ],
   "source": [
    "class Value:\n",
    "    def __init__(self, data, _children=()):\n",
    "        self.data = data\n",
    "        self._prev = set(_children)\n",
    "    \n",
    "    def __repr__(self):\n",
    "        return f\"Value(data={self.data})\"\n",
    "    \n",
    "    def __add__(self, other):\n",
    "        out = Value(self.data + other.data, (self.data, other))\n",
    "        return out\n",
    "\n",
    "    def __mul__(self, other):\n",
    "        out = Value(self.data * other.data,  (self.data, other))\n",
    "        return out\n",
    "\n",
    "a = Value(2)\n",
    "b = Value(-3)\n",
    "c = Value(10)\n",
    "a * b + c"
   ]
  },
  {
   "cell_type": "code",
   "execution_count": null,
   "id": "e061be78",
   "metadata": {},
   "outputs": [],
   "source": []
  }
 ],
 "metadata": {
  "kernelspec": {
   "display_name": "base",
   "language": "python",
   "name": "python3"
  },
  "language_info": {
   "codemirror_mode": {
    "name": "ipython",
    "version": 3
   },
   "file_extension": ".py",
   "mimetype": "text/x-python",
   "name": "python",
   "nbconvert_exporter": "python",
   "pygments_lexer": "ipython3",
   "version": "3.13.5"
  }
 },
 "nbformat": 4,
 "nbformat_minor": 5
}
