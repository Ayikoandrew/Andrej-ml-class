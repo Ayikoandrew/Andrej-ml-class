{
 "cells": [
  {
   "cell_type": "code",
   "execution_count": 1,
   "id": "e8d11f25",
   "metadata": {},
   "outputs": [],
   "source": [
    "import numpy as np\n",
    "import matplotlib.pyplot as plt\n",
    "from graphviz import Digraph\n",
    "import math\n",
    "%matplotlib inline"
   ]
  },
  {
   "cell_type": "code",
   "execution_count": 2,
   "id": "7e473493",
   "metadata": {},
   "outputs": [],
   "source": [
    "def f(x):\n",
    "    return 3*x**2 - x*4 + 5"
   ]
  },
  {
   "cell_type": "code",
   "execution_count": 3,
   "id": "41617f06",
   "metadata": {},
   "outputs": [],
   "source": [
    "xs = np.arange(-5, 5, 0.25)\n",
    "ys = f(xs)"
   ]
  },
  {
   "cell_type": "code",
   "execution_count": 4,
   "id": "1d82d3e0",
   "metadata": {},
   "outputs": [
    {
     "data": {
      "image/png": "[encoded data removed]",
      "text/plain": [
       "<Figure size 640x480 with 1 Axes>"
      ]
     },
     "metadata": {},
     "output_type": "display_data"
    }
   ],
   "source": [
    "# plt.figure(figsize=(10,6))\n",
    "plt.plot(xs, ys)\n",
    "plt.tight_layout()\n",
    "plt.show()"
   ]
  },
  {
   "cell_type": "markdown",
   "id": "febe04cc",
   "metadata": {},
   "source": [
    "# Definition of Differentiability\n",
    "\n",
    "A function of a real variable $f(x)$ is **differentiable** at a point $a$ of its domain, if its domain contains an open interval containing $a$, and the limit\n",
    "\n",
    "$$L = \\lim_{h \\to 0} \\frac{f(a+h) - f(a)}{h}$$\n",
    "\n",
    "exists and is finite.\n",
    "\n",
    "## Notes:\n",
    "\n",
    "- The limit $L$ is called the **derivative** of $f$ at $a$, denoted as $f'(a)$ or $\\frac{df}{dx}\\bigg|_{x=a}$\n",
    "- The expression $\\frac{f(a+h) - f(a)}{h}$ is called the **difference quotient**\n",
    "- For the function to be differentiable at $a$, both the left-hand and right-hand limits must exist and be equal\n"
   ]
  },
  {
   "cell_type": "code",
   "execution_count": 5,
   "id": "332f72e8",
   "metadata": {},
   "outputs": [
    {
     "data": {
      "text/plain": [
       "-21.999999688659955"
      ]
     },
     "execution_count": 5,
     "metadata": {},
     "output_type": "execute_result"
    }
   ],
   "source": [
    "h = 0.0000001\n",
    "x = -3\n",
    "(f(x + h) - f(x))/h"
   ]
  },
  {
   "cell_type": "code",
   "execution_count": 6,
   "id": "4410a99c",
   "metadata": {},
   "outputs": [
    {
     "name": "stdout",
     "output_type": "stream",
     "text": [
      "d1 4.0\n",
      "d2 4.0001\n",
      "slope 0.9999999999976694\n"
     ]
    }
   ],
   "source": [
    "h = 0.0001\n",
    "\n",
    "# inputs\n",
    "a = 2.0\n",
    "b = -3.0\n",
    "c = 10.0\n",
    "\n",
    "d1 = a * b + c\n",
    "c += h\n",
    "d2 = a * b + c\n",
    "print(\"d1\", d1)\n",
    "print(\"d2\", d2)\n",
    "print(\"slope\", (d2-d1)/h)"
   ]
  },
  {
   "cell_type": "code",
   "execution_count": null,
   "id": "2213313f",
   "metadata": {},
   "outputs": [
    {
     "data": {
      "text/plain": [
       "Value(data=-8)"
      ]
     },
     "execution_count": 7,
     "metadata": {},
     "output_type": "execute_result"
    }
   ],
   "source": [
    "class Value:\n",
    "    def __init__(self, data, _children=(), _op='', label = ''):\n",
    "        self.data = data\n",
    "        self.grad = 0.0\n",
    "        self._backward = lambda: None\n",
    "        self._prev = set(_children)\n",
    "        self._op = _op\n",
    "        self.label = label\n",
    "    \n",
    "    def __repr__(self):\n",
    "        return f\"Value(data={self.data})\"\n",
    "    \n",
    "    def __add__(self, other):\n",
    "        out = Value(self.data + other.data, (self, other), _op='+')\n",
    "        def _backward():\n",
    "            self.grad = 0.1 * other.grad\n",
    "            other.grad = 0.1 * other.grad\n",
    "        out._backward = _backward\n",
    "\n",
    "        return out\n",
    "\n",
    "    def __mul__(self, other):\n",
    "        out = Value(self.data * other.data, (self, other), _op='*')\n",
    "        def _backward():\n",
    "            self.grad = other.data * out.grad\n",
    "            other.grad = self.data * out.grad\n",
    "        out._backward = _backward\n",
    "        return out\n",
    "    \n",
    "    def tanh(self):\n",
    "        x = self.data\n",
    "        t = (np.exp(2*x) - 1)/ (np.exp(2*x) + 1)\n",
    "        out = Value(t, (self, ), 'tanh')\n",
    "        def _backward():\n",
    "            self.grad = (1 - t)**out.grad\n",
    "        out._backward = _backward\n",
    "        return out\n",
    "\n",
    "a = Value(2, label='a')\n",
    "b = Value(-3, label='b')\n",
    "c = Value(10, label='c')\n",
    "e = a * b; e.label = 'e'\n",
    "d = e + c; d.label = 'd'\n",
    "f = Value(-2, label='f')\n",
    "L = d * f; L.label = 'L'\n",
    "L"
   ]
  },
  {
   "cell_type": "code",
   "execution_count": 8,
   "id": "83756a80",
   "metadata": {},
   "outputs": [],
   "source": [
    "def trace(root):\n",
    "    nodes, edges = set(), set()\n",
    "    def build(v):\n",
    "        if v not in nodes:\n",
    "            nodes.add(v)\n",
    "            for child in v._prev:\n",
    "                edges.add((child, v))\n",
    "                build(child)\n",
    "    build(root)\n",
    "    return nodes, edges\n",
    "\n",
    "def draw_dot(root):\n",
    "    dot = Digraph(format='svg', graph_attr={\"rankdir\": 'LR'})\n",
    "    \n",
    "    nodes, edges = trace(root)\n",
    "    for n in nodes:\n",
    "        uid = str(id(n))\n",
    "        dot.node(name = uid, label = '{ %s | data %.4f | grad %f }' % (n.label, n.data, n.grad), shape='record')\n",
    "        if n._op:\n",
    "            dot.node(name = uid + n._op, label=n._op)\n",
    "            dot.edge(uid + n._op , uid)\n",
    "            \n",
    "    for n1, n2 in edges:\n",
    "        dot.edge(str(id(n1)), str(id(n2)) + n2._op)\n",
    "    return dot"
   ]
  },
  {
   "cell_type": "code",
   "execution_count": 9,
   "id": "2a09cffa",
   "metadata": {},
   "outputs": [
    {
     "data": {
      "image/svg+xml": [
       "<?xml version=\"1.0\" encoding=\"UTF-8\" standalone=\"no\"?>\n",
       "<!DOCTYPE svg PUBLIC \"-//W3C//DTD SVG 1.1//EN\"\n",
       " \"http://www.w3.org/Graphics/SVG/1.1/DTD/svg11.dtd\">\n",
       "<!-- Generated by graphviz version 2.43.0 (0)\n",
       " -->\n",
       "<!-- Title: %3 Pages: 1 -->\n",
       "<svg width=\"1404pt\" height=\"154pt\"\n",
       " viewBox=\"0.00 0.00 1404.00 154.00\" xmlns=\"http://www.w3.org/2000/svg\" xmlns:xlink=\"http://www.w3.org/1999/xlink\">\n",
       "<g id=\"graph0\" class=\"graph\" transform=\"scale(1 1) rotate(0) translate(4 150)\">\n",
       "<title>%3</title>\n",
       "<polygon fill=\"white\" stroke=\"transparent\" points=\"-4,4 -4,-150 1400,-150 1400,4 -4,4\"/>\n",
       "<!-- 137547053927472 -->\n",
       "<g id=\"node1\" class=\"node\">\n",
       "<title>137547053927472</title>\n",
       "<polygon fill=\"none\" stroke=\"black\" points=\"382.5,-27.5 382.5,-63.5 636.5,-63.5 636.5,-27.5 382.5,-27.5\"/>\n",
       "<text text-anchor=\"middle\" x=\"395\" y=\"-41.8\" font-family=\"Times,serif\" font-size=\"14.00\">e</text>\n",
       "<polyline fill=\"none\" stroke=\"black\" points=\"407.5,-27.5 407.5,-63.5 \"/>\n",
       "<text text-anchor=\"middle\" x=\"461\" y=\"-41.8\" font-family=\"Times,serif\" font-size=\"14.00\">data &#45;6.0000</text>\n",
       "<polyline fill=\"none\" stroke=\"black\" points=\"514.5,-27.5 514.5,-63.5 \"/>\n",
       "<text text-anchor=\"middle\" x=\"575.5\" y=\"-41.8\" font-family=\"Times,serif\" font-size=\"14.00\">grad 0.000000</text>\n",
       "</g>\n",
       "<!-- 137547053928688+ -->\n",
       "<g id=\"node7\" class=\"node\">\n",
       "<title>137547053928688+</title>\n",
       "<ellipse fill=\"none\" stroke=\"black\" cx=\"701\" cy=\"-72.5\" rx=\"27\" ry=\"18\"/>\n",
       "<text text-anchor=\"middle\" x=\"701\" y=\"-68.8\" font-family=\"Times,serif\" font-size=\"14.00\">+</text>\n",
       "</g>\n",
       "<!-- 137547053927472&#45;&gt;137547053928688+ -->\n",
       "<g id=\"edge7\" class=\"edge\">\n",
       "<title>137547053927472&#45;&gt;137547053928688+</title>\n",
       "<path fill=\"none\" stroke=\"black\" d=\"M636.64,-63.47C646.6,-64.89 656.04,-66.24 664.45,-67.43\"/>\n",
       "<polygon fill=\"black\" stroke=\"black\" points=\"664.1,-70.92 674.5,-68.87 665.09,-63.99 664.1,-70.92\"/>\n",
       "</g>\n",
       "<!-- 137547053927472* -->\n",
       "<g id=\"node2\" class=\"node\">\n",
       "<title>137547053927472*</title>\n",
       "<ellipse fill=\"none\" stroke=\"black\" cx=\"318\" cy=\"-45.5\" rx=\"27\" ry=\"18\"/>\n",
       "<text text-anchor=\"middle\" x=\"318\" y=\"-41.8\" font-family=\"Times,serif\" font-size=\"14.00\">*</text>\n",
       "</g>\n",
       "<!-- 137547053927472*&#45;&gt;137547053927472 -->\n",
       "<g id=\"edge1\" class=\"edge\">\n",
       "<title>137547053927472*&#45;&gt;137547053927472</title>\n",
       "<path fill=\"none\" stroke=\"black\" d=\"M345.35,-45.5C353.13,-45.5 362.23,-45.5 372.07,-45.5\"/>\n",
       "<polygon fill=\"black\" stroke=\"black\" points=\"372.15,-49 382.15,-45.5 372.15,-42 372.15,-49\"/>\n",
       "</g>\n",
       "<!-- 137547398518976 -->\n",
       "<g id=\"node3\" class=\"node\">\n",
       "<title>137547398518976</title>\n",
       "<polygon fill=\"none\" stroke=\"black\" points=\"1141,-81.5 1141,-117.5 1396,-117.5 1396,-81.5 1141,-81.5\"/>\n",
       "<text text-anchor=\"middle\" x=\"1154\" y=\"-95.8\" font-family=\"Times,serif\" font-size=\"14.00\">L</text>\n",
       "<polyline fill=\"none\" stroke=\"black\" points=\"1167,-81.5 1167,-117.5 \"/>\n",
       "<text text-anchor=\"middle\" x=\"1220.5\" y=\"-95.8\" font-family=\"Times,serif\" font-size=\"14.00\">data &#45;8.0000</text>\n",
       "<polyline fill=\"none\" stroke=\"black\" points=\"1274,-81.5 1274,-117.5 \"/>\n",
       "<text text-anchor=\"middle\" x=\"1335\" y=\"-95.8\" font-family=\"Times,serif\" font-size=\"14.00\">grad 0.000000</text>\n",
       "</g>\n",
       "<!-- 137547398518976* -->\n",
       "<g id=\"node4\" class=\"node\">\n",
       "<title>137547398518976*</title>\n",
       "<ellipse fill=\"none\" stroke=\"black\" cx=\"1078\" cy=\"-99.5\" rx=\"27\" ry=\"18\"/>\n",
       "<text text-anchor=\"middle\" x=\"1078\" y=\"-95.8\" font-family=\"Times,serif\" font-size=\"14.00\">*</text>\n",
       "</g>\n",
       "<!-- 137547398518976*&#45;&gt;137547398518976 -->\n",
       "<g id=\"edge2\" class=\"edge\">\n",
       "<title>137547398518976*&#45;&gt;137547398518976</title>\n",
       "<path fill=\"none\" stroke=\"black\" d=\"M1105.21,-99.5C1112.56,-99.5 1121.1,-99.5 1130.34,-99.5\"/>\n",
       "<polygon fill=\"black\" stroke=\"black\" points=\"1130.62,-103 1140.62,-99.5 1130.62,-96 1130.62,-103\"/>\n",
       "</g>\n",
       "<!-- 137547054480080 -->\n",
       "<g id=\"node5\" class=\"node\">\n",
       "<title>137547054480080</title>\n",
       "<polygon fill=\"none\" stroke=\"black\" points=\"764,-109.5 764,-145.5 1015,-145.5 1015,-109.5 764,-109.5\"/>\n",
       "<text text-anchor=\"middle\" x=\"775\" y=\"-123.8\" font-family=\"Times,serif\" font-size=\"14.00\">f</text>\n",
       "<polyline fill=\"none\" stroke=\"black\" points=\"786,-109.5 786,-145.5 \"/>\n",
       "<text text-anchor=\"middle\" x=\"839.5\" y=\"-123.8\" font-family=\"Times,serif\" font-size=\"14.00\">data &#45;2.0000</text>\n",
       "<polyline fill=\"none\" stroke=\"black\" points=\"893,-109.5 893,-145.5 \"/>\n",
       "<text text-anchor=\"middle\" x=\"954\" y=\"-123.8\" font-family=\"Times,serif\" font-size=\"14.00\">grad 0.000000</text>\n",
       "</g>\n",
       "<!-- 137547054480080&#45;&gt;137547398518976* -->\n",
       "<g id=\"edge8\" class=\"edge\">\n",
       "<title>137547054480080&#45;&gt;137547398518976*</title>\n",
       "<path fill=\"none\" stroke=\"black\" d=\"M1010.46,-109.49C1021.56,-107.82 1032.1,-106.24 1041.39,-104.85\"/>\n",
       "<polygon fill=\"black\" stroke=\"black\" points=\"1041.94,-108.3 1051.31,-103.36 1040.9,-101.38 1041.94,-108.3\"/>\n",
       "</g>\n",
       "<!-- 137547053928688 -->\n",
       "<g id=\"node6\" class=\"node\">\n",
       "<title>137547053928688</title>\n",
       "<polygon fill=\"none\" stroke=\"black\" points=\"764.5,-54.5 764.5,-90.5 1014.5,-90.5 1014.5,-54.5 764.5,-54.5\"/>\n",
       "<text text-anchor=\"middle\" x=\"777.5\" y=\"-68.8\" font-family=\"Times,serif\" font-size=\"14.00\">d</text>\n",
       "<polyline fill=\"none\" stroke=\"black\" points=\"790.5,-54.5 790.5,-90.5 \"/>\n",
       "<text text-anchor=\"middle\" x=\"841.5\" y=\"-68.8\" font-family=\"Times,serif\" font-size=\"14.00\">data 4.0000</text>\n",
       "<polyline fill=\"none\" stroke=\"black\" points=\"892.5,-54.5 892.5,-90.5 \"/>\n",
       "<text text-anchor=\"middle\" x=\"953.5\" y=\"-68.8\" font-family=\"Times,serif\" font-size=\"14.00\">grad 0.000000</text>\n",
       "</g>\n",
       "<!-- 137547053928688&#45;&gt;137547398518976* -->\n",
       "<g id=\"edge4\" class=\"edge\">\n",
       "<title>137547053928688&#45;&gt;137547398518976*</title>\n",
       "<path fill=\"none\" stroke=\"black\" d=\"M1014.64,-90.47C1024.15,-91.85 1033.18,-93.16 1041.26,-94.33\"/>\n",
       "<polygon fill=\"black\" stroke=\"black\" points=\"1040.9,-97.81 1051.3,-95.78 1041.9,-90.88 1040.9,-97.81\"/>\n",
       "</g>\n",
       "<!-- 137547053928688+&#45;&gt;137547053928688 -->\n",
       "<g id=\"edge3\" class=\"edge\">\n",
       "<title>137547053928688+&#45;&gt;137547053928688</title>\n",
       "<path fill=\"none\" stroke=\"black\" d=\"M728.33,-72.5C735.85,-72.5 744.61,-72.5 754.07,-72.5\"/>\n",
       "<polygon fill=\"black\" stroke=\"black\" points=\"754.17,-76 764.17,-72.5 754.17,-69 754.17,-76\"/>\n",
       "</g>\n",
       "<!-- 137547053787392 -->\n",
       "<g id=\"node8\" class=\"node\">\n",
       "<title>137547053787392</title>\n",
       "<polygon fill=\"none\" stroke=\"black\" points=\"3,-55.5 3,-91.5 252,-91.5 252,-55.5 3,-55.5\"/>\n",
       "<text text-anchor=\"middle\" x=\"15.5\" y=\"-69.8\" font-family=\"Times,serif\" font-size=\"14.00\">a</text>\n",
       "<polyline fill=\"none\" stroke=\"black\" points=\"28,-55.5 28,-91.5 \"/>\n",
       "<text text-anchor=\"middle\" x=\"79\" y=\"-69.8\" font-family=\"Times,serif\" font-size=\"14.00\">data 2.0000</text>\n",
       "<polyline fill=\"none\" stroke=\"black\" points=\"130,-55.5 130,-91.5 \"/>\n",
       "<text text-anchor=\"middle\" x=\"191\" y=\"-69.8\" font-family=\"Times,serif\" font-size=\"14.00\">grad 0.000000</text>\n",
       "</g>\n",
       "<!-- 137547053787392&#45;&gt;137547053927472* -->\n",
       "<g id=\"edge9\" class=\"edge\">\n",
       "<title>137547053787392&#45;&gt;137547053927472*</title>\n",
       "<path fill=\"none\" stroke=\"black\" d=\"M249.75,-55.49C261.07,-53.81 271.82,-52.21 281.27,-50.81\"/>\n",
       "<polygon fill=\"black\" stroke=\"black\" points=\"281.97,-54.24 291.35,-49.31 280.95,-47.32 281.97,-54.24\"/>\n",
       "</g>\n",
       "<!-- 137547053814544 -->\n",
       "<g id=\"node9\" class=\"node\">\n",
       "<title>137547053814544</title>\n",
       "<polygon fill=\"none\" stroke=\"black\" points=\"0,-0.5 0,-36.5 255,-36.5 255,-0.5 0,-0.5\"/>\n",
       "<text text-anchor=\"middle\" x=\"13\" y=\"-14.8\" font-family=\"Times,serif\" font-size=\"14.00\">b</text>\n",
       "<polyline fill=\"none\" stroke=\"black\" points=\"26,-0.5 26,-36.5 \"/>\n",
       "<text text-anchor=\"middle\" x=\"79.5\" y=\"-14.8\" font-family=\"Times,serif\" font-size=\"14.00\">data &#45;3.0000</text>\n",
       "<polyline fill=\"none\" stroke=\"black\" points=\"133,-0.5 133,-36.5 \"/>\n",
       "<text text-anchor=\"middle\" x=\"194\" y=\"-14.8\" font-family=\"Times,serif\" font-size=\"14.00\">grad 0.000000</text>\n",
       "</g>\n",
       "<!-- 137547053814544&#45;&gt;137547053927472* -->\n",
       "<g id=\"edge6\" class=\"edge\">\n",
       "<title>137547053814544&#45;&gt;137547053927472*</title>\n",
       "<path fill=\"none\" stroke=\"black\" d=\"M254.23,-36.51C263.91,-37.89 273.08,-39.21 281.27,-40.38\"/>\n",
       "<polygon fill=\"black\" stroke=\"black\" points=\"281.05,-43.89 291.45,-41.84 282.04,-36.96 281.05,-43.89\"/>\n",
       "</g>\n",
       "<!-- 137547054135120 -->\n",
       "<g id=\"node10\" class=\"node\">\n",
       "<title>137547054135120</title>\n",
       "<polygon fill=\"none\" stroke=\"black\" points=\"381,-82.5 381,-118.5 638,-118.5 638,-82.5 381,-82.5\"/>\n",
       "<text text-anchor=\"middle\" x=\"393\" y=\"-96.8\" font-family=\"Times,serif\" font-size=\"14.00\">c</text>\n",
       "<polyline fill=\"none\" stroke=\"black\" points=\"405,-82.5 405,-118.5 \"/>\n",
       "<text text-anchor=\"middle\" x=\"460.5\" y=\"-96.8\" font-family=\"Times,serif\" font-size=\"14.00\">data 10.0000</text>\n",
       "<polyline fill=\"none\" stroke=\"black\" points=\"516,-82.5 516,-118.5 \"/>\n",
       "<text text-anchor=\"middle\" x=\"577\" y=\"-96.8\" font-family=\"Times,serif\" font-size=\"14.00\">grad 0.000000</text>\n",
       "</g>\n",
       "<!-- 137547054135120&#45;&gt;137547053928688+ -->\n",
       "<g id=\"edge5\" class=\"edge\">\n",
       "<title>137547054135120&#45;&gt;137547053928688+</title>\n",
       "<path fill=\"none\" stroke=\"black\" d=\"M632.39,-82.49C643.87,-80.79 654.78,-79.18 664.34,-77.77\"/>\n",
       "<polygon fill=\"black\" stroke=\"black\" points=\"665.15,-81.19 674.53,-76.26 664.13,-74.26 665.15,-81.19\"/>\n",
       "</g>\n",
       "</g>\n",
       "</svg>\n"
      ],
      "text/plain": [
       "<graphviz.graphs.Digraph at 0x7d192b47ecf0>"
      ]
     },
     "execution_count": 9,
     "metadata": {},
     "output_type": "execute_result"
    }
   ],
   "source": [
    "draw_dot(L)"
   ]
  },
  {
   "cell_type": "code",
   "execution_count": 10,
   "id": "9ee3a408",
   "metadata": {},
   "outputs": [],
   "source": [
    "a.grad = -2.0 * -3.0\n",
    "b.grad = -2.0 * 2.0"
   ]
  },
  {
   "cell_type": "code",
   "execution_count": 11,
   "id": "8e7b915c",
   "metadata": {},
   "outputs": [],
   "source": [
    "# dl/da?\n",
    "# dl/de = -2\n",
    "# e = a*b\n",
    "#de/da = b\n",
    "\n",
    "# dl/da = dl/de * de/da\n",
    "# dl/da = -2 * -3"
   ]
  },
  {
   "cell_type": "code",
   "execution_count": 12,
   "id": "a871eb0f",
   "metadata": {},
   "outputs": [],
   "source": [
    "c.grad = d.grad\n",
    "e.grad = d.grad"
   ]
  },
  {
   "cell_type": "code",
   "execution_count": 13,
   "id": "54a26a1e",
   "metadata": {},
   "outputs": [],
   "source": [
    "f.grad = d.data\n",
    "d.grad = f.data"
   ]
  },
  {
   "cell_type": "code",
   "execution_count": 14,
   "id": "ba9d06c8",
   "metadata": {},
   "outputs": [],
   "source": [
    "L.grad = 1.0"
   ]
  },
  {
   "cell_type": "code",
   "execution_count": 15,
   "id": "c164c9bb",
   "metadata": {},
   "outputs": [
    {
     "name": "stdout",
     "output_type": "stream",
     "text": [
      "-3.9999999999995595\n"
     ]
    }
   ],
   "source": [
    "def lol():\n",
    "    h = 0.001\n",
    "    a = Value(2, label='a')\n",
    "    b = Value(-3, label='b')\n",
    "    c = Value(10, label='c')\n",
    "    e = a * b; e.label = 'e'\n",
    "    d = e + c; d.label = 'd'\n",
    "    f = Value(-2, label='f')\n",
    "    L = d * f; L.label = 'L'\n",
    "    L1 = L.data\n",
    "    \n",
    "    a = Value(2, label='a')\n",
    "    b = Value(-3, label='b')\n",
    "    b.data+=h\n",
    "    c = Value(10, label='c')\n",
    "    e = a * b; e.label = 'e'\n",
    "    d = e + c; d.label = 'd'\n",
    "    f = Value(-2, label='f')\n",
    "    L = d * f; L.label = 'L'\n",
    "    L2= L.data\n",
    "    \n",
    "    print((L2 - L1)/h)\n",
    "\n",
    "lol()"
   ]
  },
  {
   "cell_type": "code",
   "execution_count": 16,
   "id": "0e49251e",
   "metadata": {},
   "outputs": [
    {
     "data": {
      "image/png": "[encoded data removed]",
      "text/plain": [
       "<Figure size 640x480 with 1 Axes>"
      ]
     },
     "metadata": {},
     "output_type": "display_data"
    }
   ],
   "source": [
    "plt.plot(np.arange(-5, 5, 0.2), np.tanh(np.arange(-5, 5, 0.2))); plt.grid(); plt.show()"
   ]
  },
  {
   "cell_type": "code",
   "execution_count": 17,
   "id": "b90a2fd4",
   "metadata": {},
   "outputs": [],
   "source": [
    "# inputs\n",
    "x1 = Value(2.0, label='x1')\n",
    "x2 = Value(0.0, label='x2')\n",
    "\n",
    "# weights\n",
    "w1 = Value(-3.0, label='w1')\n",
    "w2 = Value(1.0, label='w2')\n",
    "\n",
    "# biasof the neuron\n",
    "b = Value(6.8813735870195432, label='b')\n",
    "\n",
    "# x1*w1 + x2*w2 + b\n",
    "x1w1 =  x1*w1; x1w1.label='x1*w1'\n",
    "x2w2 =  x2*w2; x2w2.label='x2*w2'\n",
    "\n",
    "x1w1x2w2 = x1w1+x2w2; x1w1x2w2.label ='x1w1+x2w2'\n",
    "n = x1w1x2w2 + b; n.label = 'n'\n",
    "o = n.tanh(); o.label = 'o'"
   ]
  },
  {
   "cell_type": "code",
   "execution_count": 31,
   "id": "524df510",
   "metadata": {},
   "outputs": [
    {
     "data": {
      "image/svg+xml": [
       "<?xml version=\"1.0\" encoding=\"UTF-8\" standalone=\"no\"?>\n",
       "<!DOCTYPE svg PUBLIC \"-//W3C//DTD SVG 1.1//EN\"\n",
       " \"http://www.w3.org/Graphics/SVG/1.1/DTD/svg11.dtd\">\n",
       "<!-- Generated by graphviz version 2.43.0 (0)\n",
       " -->\n",
       "<!-- Title: %3 Pages: 1 -->\n",
       "<svg width=\"1913pt\" height=\"210pt\"\n",
       " viewBox=\"0.00 0.00 1912.69 210.00\" xmlns=\"http://www.w3.org/2000/svg\" xmlns:xlink=\"http://www.w3.org/1999/xlink\">\n",
       "<g id=\"graph0\" class=\"graph\" transform=\"scale(1 1) rotate(0) translate(4 206)\">\n",
       "<title>%3</title>\n",
       "<polygon fill=\"white\" stroke=\"transparent\" points=\"-4,4 -4,-206 1908.69,-206 1908.69,4 -4,4\"/>\n",
       "<!-- 137547054177744 -->\n",
       "<g id=\"node1\" class=\"node\">\n",
       "<title>137547054177744</title>\n",
       "<polygon fill=\"none\" stroke=\"black\" points=\"4.5,-165.5 4.5,-201.5 262.5,-201.5 262.5,-165.5 4.5,-165.5\"/>\n",
       "<text text-anchor=\"middle\" x=\"21.5\" y=\"-179.8\" font-family=\"Times,serif\" font-size=\"14.00\">x2</text>\n",
       "<polyline fill=\"none\" stroke=\"black\" points=\"38.5,-165.5 38.5,-201.5 \"/>\n",
       "<text text-anchor=\"middle\" x=\"89.5\" y=\"-179.8\" font-family=\"Times,serif\" font-size=\"14.00\">data 0.0000</text>\n",
       "<polyline fill=\"none\" stroke=\"black\" points=\"140.5,-165.5 140.5,-201.5 \"/>\n",
       "<text text-anchor=\"middle\" x=\"201.5\" y=\"-179.8\" font-family=\"Times,serif\" font-size=\"14.00\">grad 0.500000</text>\n",
       "</g>\n",
       "<!-- 137547054178128* -->\n",
       "<g id=\"node8\" class=\"node\">\n",
       "<title>137547054178128*</title>\n",
       "<ellipse fill=\"none\" stroke=\"black\" cx=\"330\" cy=\"-128.5\" rx=\"27\" ry=\"18\"/>\n",
       "<text text-anchor=\"middle\" x=\"330\" y=\"-124.8\" font-family=\"Times,serif\" font-size=\"14.00\">*</text>\n",
       "</g>\n",
       "<!-- 137547054177744&#45;&gt;137547054178128* -->\n",
       "<g id=\"edge11\" class=\"edge\">\n",
       "<title>137547054177744&#45;&gt;137547054178128*</title>\n",
       "<path fill=\"none\" stroke=\"black\" d=\"M235.31,-165.42C246.1,-162.76 256.84,-159.79 267,-156.5 277.73,-153.03 289.08,-148.26 299.1,-143.63\"/>\n",
       "<polygon fill=\"black\" stroke=\"black\" points=\"300.7,-146.74 308.23,-139.29 297.69,-140.42 300.7,-146.74\"/>\n",
       "</g>\n",
       "<!-- 137547054176336 -->\n",
       "<g id=\"node2\" class=\"node\">\n",
       "<title>137547054176336</title>\n",
       "<polygon fill=\"none\" stroke=\"black\" points=\"0,-55.5 0,-91.5 267,-91.5 267,-55.5 0,-55.5\"/>\n",
       "<text text-anchor=\"middle\" x=\"19\" y=\"-69.8\" font-family=\"Times,serif\" font-size=\"14.00\">w1</text>\n",
       "<polyline fill=\"none\" stroke=\"black\" points=\"38,-55.5 38,-91.5 \"/>\n",
       "<text text-anchor=\"middle\" x=\"91.5\" y=\"-69.8\" font-family=\"Times,serif\" font-size=\"14.00\">data &#45;3.0000</text>\n",
       "<polyline fill=\"none\" stroke=\"black\" points=\"145,-55.5 145,-91.5 \"/>\n",
       "<text text-anchor=\"middle\" x=\"206\" y=\"-69.8\" font-family=\"Times,serif\" font-size=\"14.00\">grad 1.000000</text>\n",
       "</g>\n",
       "<!-- 137547054180176* -->\n",
       "<g id=\"node12\" class=\"node\">\n",
       "<title>137547054180176*</title>\n",
       "<ellipse fill=\"none\" stroke=\"black\" cx=\"330\" cy=\"-73.5\" rx=\"27\" ry=\"18\"/>\n",
       "<text text-anchor=\"middle\" x=\"330\" y=\"-69.8\" font-family=\"Times,serif\" font-size=\"14.00\">*</text>\n",
       "</g>\n",
       "<!-- 137547054176336&#45;&gt;137547054180176* -->\n",
       "<g id=\"edge12\" class=\"edge\">\n",
       "<title>137547054176336&#45;&gt;137547054180176*</title>\n",
       "<path fill=\"none\" stroke=\"black\" d=\"M267.19,-73.5C276.31,-73.5 284.96,-73.5 292.73,-73.5\"/>\n",
       "<polygon fill=\"black\" stroke=\"black\" points=\"292.75,-77 302.75,-73.5 292.75,-70 292.75,-77\"/>\n",
       "</g>\n",
       "<!-- 137547054174928 -->\n",
       "<g id=\"node3\" class=\"node\">\n",
       "<title>137547054174928</title>\n",
       "<polygon fill=\"none\" stroke=\"black\" points=\"1270,-54.5 1270,-90.5 1520,-90.5 1520,-54.5 1270,-54.5\"/>\n",
       "<text text-anchor=\"middle\" x=\"1283\" y=\"-68.8\" font-family=\"Times,serif\" font-size=\"14.00\">n</text>\n",
       "<polyline fill=\"none\" stroke=\"black\" points=\"1296,-54.5 1296,-90.5 \"/>\n",
       "<text text-anchor=\"middle\" x=\"1347\" y=\"-68.8\" font-family=\"Times,serif\" font-size=\"14.00\">data 0.8814</text>\n",
       "<polyline fill=\"none\" stroke=\"black\" points=\"1398,-54.5 1398,-90.5 \"/>\n",
       "<text text-anchor=\"middle\" x=\"1459\" y=\"-68.8\" font-family=\"Times,serif\" font-size=\"14.00\">grad 0.500000</text>\n",
       "</g>\n",
       "<!-- 137547054176080tanh -->\n",
       "<g id=\"node10\" class=\"node\">\n",
       "<title>137547054176080tanh</title>\n",
       "<ellipse fill=\"none\" stroke=\"black\" cx=\"1587.85\" cy=\"-72.5\" rx=\"31.7\" ry=\"18\"/>\n",
       "<text text-anchor=\"middle\" x=\"1587.85\" y=\"-68.8\" font-family=\"Times,serif\" font-size=\"14.00\">tanh</text>\n",
       "</g>\n",
       "<!-- 137547054174928&#45;&gt;137547054176080tanh -->\n",
       "<g id=\"edge7\" class=\"edge\">\n",
       "<title>137547054174928&#45;&gt;137547054176080tanh</title>\n",
       "<path fill=\"none\" stroke=\"black\" d=\"M1520.1,-72.5C1529.1,-72.5 1537.73,-72.5 1545.63,-72.5\"/>\n",
       "<polygon fill=\"black\" stroke=\"black\" points=\"1545.89,-76 1555.89,-72.5 1545.89,-69 1545.89,-76\"/>\n",
       "</g>\n",
       "<!-- 137547054174928+ -->\n",
       "<g id=\"node4\" class=\"node\">\n",
       "<title>137547054174928+</title>\n",
       "<ellipse fill=\"none\" stroke=\"black\" cx=\"1207\" cy=\"-72.5\" rx=\"27\" ry=\"18\"/>\n",
       "<text text-anchor=\"middle\" x=\"1207\" y=\"-68.8\" font-family=\"Times,serif\" font-size=\"14.00\">+</text>\n",
       "</g>\n",
       "<!-- 137547054174928+&#45;&gt;137547054174928 -->\n",
       "<g id=\"edge1\" class=\"edge\">\n",
       "<title>137547054174928+&#45;&gt;137547054174928</title>\n",
       "<path fill=\"none\" stroke=\"black\" d=\"M1234.25,-72.5C1241.61,-72.5 1250.14,-72.5 1259.36,-72.5\"/>\n",
       "<polygon fill=\"black\" stroke=\"black\" points=\"1259.61,-76 1269.61,-72.5 1259.61,-69 1259.61,-76\"/>\n",
       "</g>\n",
       "<!-- 137547054178000 -->\n",
       "<g id=\"node5\" class=\"node\">\n",
       "<title>137547054178000</title>\n",
       "<polygon fill=\"none\" stroke=\"black\" points=\"2.5,-110.5 2.5,-146.5 264.5,-146.5 264.5,-110.5 2.5,-110.5\"/>\n",
       "<text text-anchor=\"middle\" x=\"21.5\" y=\"-124.8\" font-family=\"Times,serif\" font-size=\"14.00\">w2</text>\n",
       "<polyline fill=\"none\" stroke=\"black\" points=\"40.5,-110.5 40.5,-146.5 \"/>\n",
       "<text text-anchor=\"middle\" x=\"91.5\" y=\"-124.8\" font-family=\"Times,serif\" font-size=\"14.00\">data 1.0000</text>\n",
       "<polyline fill=\"none\" stroke=\"black\" points=\"142.5,-110.5 142.5,-146.5 \"/>\n",
       "<text text-anchor=\"middle\" x=\"203.5\" y=\"-124.8\" font-family=\"Times,serif\" font-size=\"14.00\">grad 0.000000</text>\n",
       "</g>\n",
       "<!-- 137547054178000&#45;&gt;137547054178128* -->\n",
       "<g id=\"edge8\" class=\"edge\">\n",
       "<title>137547054178000&#45;&gt;137547054178128*</title>\n",
       "<path fill=\"none\" stroke=\"black\" d=\"M264.5,-128.5C274.56,-128.5 284.09,-128.5 292.59,-128.5\"/>\n",
       "<polygon fill=\"black\" stroke=\"black\" points=\"292.75,-132 302.75,-128.5 292.75,-125 292.75,-132\"/>\n",
       "</g>\n",
       "<!-- 137547054185424 -->\n",
       "<g id=\"node6\" class=\"node\">\n",
       "<title>137547054185424</title>\n",
       "<polygon fill=\"none\" stroke=\"black\" points=\"852,-27.5 852,-63.5 1102,-63.5 1102,-27.5 852,-27.5\"/>\n",
       "<text text-anchor=\"middle\" x=\"865\" y=\"-41.8\" font-family=\"Times,serif\" font-size=\"14.00\">b</text>\n",
       "<polyline fill=\"none\" stroke=\"black\" points=\"878,-27.5 878,-63.5 \"/>\n",
       "<text text-anchor=\"middle\" x=\"929\" y=\"-41.8\" font-family=\"Times,serif\" font-size=\"14.00\">data 6.8814</text>\n",
       "<polyline fill=\"none\" stroke=\"black\" points=\"980,-27.5 980,-63.5 \"/>\n",
       "<text text-anchor=\"middle\" x=\"1041\" y=\"-41.8\" font-family=\"Times,serif\" font-size=\"14.00\">grad 0.500000</text>\n",
       "</g>\n",
       "<!-- 137547054185424&#45;&gt;137547054174928+ -->\n",
       "<g id=\"edge9\" class=\"edge\">\n",
       "<title>137547054185424&#45;&gt;137547054174928+</title>\n",
       "<path fill=\"none\" stroke=\"black\" d=\"M1102.01,-60.19C1126.92,-63.14 1151.19,-66.01 1170.01,-68.24\"/>\n",
       "<polygon fill=\"black\" stroke=\"black\" points=\"1169.8,-71.74 1180.15,-69.44 1170.63,-64.79 1169.8,-71.74\"/>\n",
       "</g>\n",
       "<!-- 137547054178128 -->\n",
       "<g id=\"node7\" class=\"node\">\n",
       "<title>137547054178128</title>\n",
       "<polygon fill=\"none\" stroke=\"black\" points=\"395.5,-110.5 395.5,-146.5 681.5,-146.5 681.5,-110.5 395.5,-110.5\"/>\n",
       "<text text-anchor=\"middle\" x=\"426.5\" y=\"-124.8\" font-family=\"Times,serif\" font-size=\"14.00\">x2*w2</text>\n",
       "<polyline fill=\"none\" stroke=\"black\" points=\"457.5,-110.5 457.5,-146.5 \"/>\n",
       "<text text-anchor=\"middle\" x=\"508.5\" y=\"-124.8\" font-family=\"Times,serif\" font-size=\"14.00\">data 0.0000</text>\n",
       "<polyline fill=\"none\" stroke=\"black\" points=\"559.5,-110.5 559.5,-146.5 \"/>\n",
       "<text text-anchor=\"middle\" x=\"620.5\" y=\"-124.8\" font-family=\"Times,serif\" font-size=\"14.00\">grad 0.500000</text>\n",
       "</g>\n",
       "<!-- 137547054185936+ -->\n",
       "<g id=\"node15\" class=\"node\">\n",
       "<title>137547054185936+</title>\n",
       "<ellipse fill=\"none\" stroke=\"black\" cx=\"747\" cy=\"-100.5\" rx=\"27\" ry=\"18\"/>\n",
       "<text text-anchor=\"middle\" x=\"747\" y=\"-96.8\" font-family=\"Times,serif\" font-size=\"14.00\">+</text>\n",
       "</g>\n",
       "<!-- 137547054178128&#45;&gt;137547054185936+ -->\n",
       "<g id=\"edge13\" class=\"edge\">\n",
       "<title>137547054178128&#45;&gt;137547054185936+</title>\n",
       "<path fill=\"none\" stroke=\"black\" d=\"M672.32,-110.49C686.09,-108.62 699.09,-106.86 710.22,-105.35\"/>\n",
       "<polygon fill=\"black\" stroke=\"black\" points=\"710.85,-108.8 720.29,-103.99 709.91,-101.86 710.85,-108.8\"/>\n",
       "</g>\n",
       "<!-- 137547054178128*&#45;&gt;137547054178128 -->\n",
       "<g id=\"edge2\" class=\"edge\">\n",
       "<title>137547054178128*&#45;&gt;137547054178128</title>\n",
       "<path fill=\"none\" stroke=\"black\" d=\"M357.15,-128.5C365.21,-128.5 374.73,-128.5 385.11,-128.5\"/>\n",
       "<polygon fill=\"black\" stroke=\"black\" points=\"385.31,-132 395.31,-128.5 385.31,-125 385.31,-132\"/>\n",
       "</g>\n",
       "<!-- 137547054176080 -->\n",
       "<g id=\"node9\" class=\"node\">\n",
       "<title>137547054176080</title>\n",
       "<polygon fill=\"none\" stroke=\"black\" points=\"1655.69,-54.5 1655.69,-90.5 1904.69,-90.5 1904.69,-54.5 1655.69,-54.5\"/>\n",
       "<text text-anchor=\"middle\" x=\"1668.19\" y=\"-68.8\" font-family=\"Times,serif\" font-size=\"14.00\">o</text>\n",
       "<polyline fill=\"none\" stroke=\"black\" points=\"1680.69,-54.5 1680.69,-90.5 \"/>\n",
       "<text text-anchor=\"middle\" x=\"1731.69\" y=\"-68.8\" font-family=\"Times,serif\" font-size=\"14.00\">data 0.7071</text>\n",
       "<polyline fill=\"none\" stroke=\"black\" points=\"1782.69,-54.5 1782.69,-90.5 \"/>\n",
       "<text text-anchor=\"middle\" x=\"1843.69\" y=\"-68.8\" font-family=\"Times,serif\" font-size=\"14.00\">grad 1.000000</text>\n",
       "</g>\n",
       "<!-- 137547054176080tanh&#45;&gt;137547054176080 -->\n",
       "<g id=\"edge3\" class=\"edge\">\n",
       "<title>137547054176080tanh&#45;&gt;137547054176080</title>\n",
       "<path fill=\"none\" stroke=\"black\" d=\"M1619.85,-72.5C1627.43,-72.5 1636.03,-72.5 1645.21,-72.5\"/>\n",
       "<polygon fill=\"black\" stroke=\"black\" points=\"1645.38,-76 1655.38,-72.5 1645.38,-69 1645.38,-76\"/>\n",
       "</g>\n",
       "<!-- 137547054180176 -->\n",
       "<g id=\"node11\" class=\"node\">\n",
       "<title>137547054180176</title>\n",
       "<polygon fill=\"none\" stroke=\"black\" points=\"393,-55.5 393,-91.5 684,-91.5 684,-55.5 393,-55.5\"/>\n",
       "<text text-anchor=\"middle\" x=\"424\" y=\"-69.8\" font-family=\"Times,serif\" font-size=\"14.00\">x1*w1</text>\n",
       "<polyline fill=\"none\" stroke=\"black\" points=\"455,-55.5 455,-91.5 \"/>\n",
       "<text text-anchor=\"middle\" x=\"508.5\" y=\"-69.8\" font-family=\"Times,serif\" font-size=\"14.00\">data &#45;6.0000</text>\n",
       "<polyline fill=\"none\" stroke=\"black\" points=\"562,-55.5 562,-91.5 \"/>\n",
       "<text text-anchor=\"middle\" x=\"623\" y=\"-69.8\" font-family=\"Times,serif\" font-size=\"14.00\">grad 0.500000</text>\n",
       "</g>\n",
       "<!-- 137547054180176&#45;&gt;137547054185936+ -->\n",
       "<g id=\"edge6\" class=\"edge\">\n",
       "<title>137547054180176&#45;&gt;137547054185936+</title>\n",
       "<path fill=\"none\" stroke=\"black\" d=\"M677.24,-91.51C689.19,-93.07 700.45,-94.54 710.26,-95.83\"/>\n",
       "<polygon fill=\"black\" stroke=\"black\" points=\"709.93,-99.31 720.3,-97.14 710.83,-92.37 709.93,-99.31\"/>\n",
       "</g>\n",
       "<!-- 137547054180176*&#45;&gt;137547054180176 -->\n",
       "<g id=\"edge4\" class=\"edge\">\n",
       "<title>137547054180176*&#45;&gt;137547054180176</title>\n",
       "<path fill=\"none\" stroke=\"black\" d=\"M357.15,-73.5C364.56,-73.5 373.21,-73.5 382.62,-73.5\"/>\n",
       "<polygon fill=\"black\" stroke=\"black\" points=\"382.69,-77 392.69,-73.5 382.69,-70 382.69,-77\"/>\n",
       "</g>\n",
       "<!-- 137547399002976 -->\n",
       "<g id=\"node13\" class=\"node\">\n",
       "<title>137547399002976</title>\n",
       "<polygon fill=\"none\" stroke=\"black\" points=\"2.5,-0.5 2.5,-36.5 264.5,-36.5 264.5,-0.5 2.5,-0.5\"/>\n",
       "<text text-anchor=\"middle\" x=\"19.5\" y=\"-14.8\" font-family=\"Times,serif\" font-size=\"14.00\">x1</text>\n",
       "<polyline fill=\"none\" stroke=\"black\" points=\"36.5,-0.5 36.5,-36.5 \"/>\n",
       "<text text-anchor=\"middle\" x=\"87.5\" y=\"-14.8\" font-family=\"Times,serif\" font-size=\"14.00\">data 2.0000</text>\n",
       "<polyline fill=\"none\" stroke=\"black\" points=\"138.5,-0.5 138.5,-36.5 \"/>\n",
       "<text text-anchor=\"middle\" x=\"201.5\" y=\"-14.8\" font-family=\"Times,serif\" font-size=\"14.00\">grad &#45;1.500000</text>\n",
       "</g>\n",
       "<!-- 137547399002976&#45;&gt;137547054180176* -->\n",
       "<g id=\"edge10\" class=\"edge\">\n",
       "<title>137547399002976&#45;&gt;137547054180176*</title>\n",
       "<path fill=\"none\" stroke=\"black\" d=\"M231.35,-36.58C243.45,-39.54 255.58,-42.85 267,-46.5 277.48,-49.85 288.6,-54.37 298.49,-58.75\"/>\n",
       "<polygon fill=\"black\" stroke=\"black\" points=\"297.34,-62.07 307.89,-63.04 300.24,-55.7 297.34,-62.07\"/>\n",
       "</g>\n",
       "<!-- 137547054185936 -->\n",
       "<g id=\"node14\" class=\"node\">\n",
       "<title>137547054185936</title>\n",
       "<polygon fill=\"none\" stroke=\"black\" points=\"810,-82.5 810,-118.5 1144,-118.5 1144,-82.5 810,-82.5\"/>\n",
       "<text text-anchor=\"middle\" x=\"862.5\" y=\"-96.8\" font-family=\"Times,serif\" font-size=\"14.00\">x1w1+x2w2</text>\n",
       "<polyline fill=\"none\" stroke=\"black\" points=\"915,-82.5 915,-118.5 \"/>\n",
       "<text text-anchor=\"middle\" x=\"968.5\" y=\"-96.8\" font-family=\"Times,serif\" font-size=\"14.00\">data &#45;6.0000</text>\n",
       "<polyline fill=\"none\" stroke=\"black\" points=\"1022,-82.5 1022,-118.5 \"/>\n",
       "<text text-anchor=\"middle\" x=\"1083\" y=\"-96.8\" font-family=\"Times,serif\" font-size=\"14.00\">grad 0.500000</text>\n",
       "</g>\n",
       "<!-- 137547054185936&#45;&gt;137547054174928+ -->\n",
       "<g id=\"edge14\" class=\"edge\">\n",
       "<title>137547054185936&#45;&gt;137547054174928+</title>\n",
       "<path fill=\"none\" stroke=\"black\" d=\"M1124.65,-82.49C1141.27,-80.45 1156.87,-78.53 1169.88,-76.94\"/>\n",
       "<polygon fill=\"black\" stroke=\"black\" points=\"1170.66,-80.37 1180.16,-75.67 1169.81,-73.42 1170.66,-80.37\"/>\n",
       "</g>\n",
       "<!-- 137547054185936+&#45;&gt;137547054185936 -->\n",
       "<g id=\"edge5\" class=\"edge\">\n",
       "<title>137547054185936+&#45;&gt;137547054185936</title>\n",
       "<path fill=\"none\" stroke=\"black\" d=\"M774.15,-100.5C781.53,-100.5 790.16,-100.5 799.61,-100.5\"/>\n",
       "<polygon fill=\"black\" stroke=\"black\" points=\"799.74,-104 809.74,-100.5 799.74,-97 799.74,-104\"/>\n",
       "</g>\n",
       "</g>\n",
       "</svg>\n"
      ],
      "text/plain": [
       "<graphviz.graphs.Digraph at 0x7d192b527d10>"
      ]
     },
     "execution_count": 31,
     "metadata": {},
     "output_type": "execute_result"
    }
   ],
   "source": [
    "draw_dot(o)"
   ]
  },
  {
   "cell_type": "code",
   "execution_count": 30,
   "id": "a1ceeb3d",
   "metadata": {},
   "outputs": [],
   "source": [
    "x1.grad = x1w1.grad * w1.data\n",
    "w1.grad = x1w1.grad * x1.data\n",
    "\n",
    "x2.grad = x2w2.grad * w2.data\n",
    "w2.grad = x2w2.grad * x2.data"
   ]
  },
  {
   "cell_type": "code",
   "execution_count": 28,
   "id": "3055fdbd",
   "metadata": {},
   "outputs": [],
   "source": [
    "x1w1.grad = x1w1x2w2.grad\n",
    "x2w2.grad =x1w1x2w2.grad"
   ]
  },
  {
   "cell_type": "code",
   "execution_count": 26,
   "id": "285bcda2",
   "metadata": {},
   "outputs": [],
   "source": [
    "x1w1x2w2.grad = n.grad\n",
    "b.grad = n.grad"
   ]
  },
  {
   "cell_type": "code",
   "execution_count": 22,
   "id": "a90092cf",
   "metadata": {},
   "outputs": [],
   "source": [
    "n.grad = 1-o.data**2"
   ]
  },
  {
   "cell_type": "code",
   "execution_count": 23,
   "id": "2dfc1a30",
   "metadata": {},
   "outputs": [],
   "source": [
    "o.grad = 1"
   ]
  },
  {
   "cell_type": "code",
   "execution_count": 24,
   "id": "524d3823",
   "metadata": {},
   "outputs": [
    {
     "data": {
      "text/plain": [
       "np.float64(0.4999999999999999)"
      ]
     },
     "execution_count": 24,
     "metadata": {},
     "output_type": "execute_result"
    }
   ],
   "source": [
    "# do/dn = 1 - tanh(n)**2\n",
    "1-o.data**2"
   ]
  },
  {
   "cell_type": "code",
   "execution_count": null,
   "id": "1c09d9ee",
   "metadata": {},
   "outputs": [],
   "source": []
  }
 ],
 "metadata": {
  "kernelspec": {
   "display_name": "base",
   "language": "python",
   "name": "python3"
  },
  "language_info": {
   "codemirror_mode": {
    "name": "ipython",
    "version": 3
   },
   "file_extension": ".py",
   "mimetype": "text/x-python",
   "name": "python",
   "nbconvert_exporter": "python",
   "pygments_lexer": "ipython3",
   "version": "3.13.5"
  }
 },
 "nbformat": 4,
 "nbformat_minor": 5
}
